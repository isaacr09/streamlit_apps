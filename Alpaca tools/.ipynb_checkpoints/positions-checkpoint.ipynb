{
 "cells": [
  {
   "cell_type": "code",
   "execution_count": 8,
   "metadata": {},
   "outputs": [
    {
     "name": "stdout",
     "output_type": "stream",
     "text": [
      "Position({   'asset_class': 'us_equity',\n",
      "    'asset_id': '36c8d04d-be51-476c-9382-0b6ea3bf1a26',\n",
      "    'asset_marginable': True,\n",
      "    'avg_entry_price': '72.97',\n",
      "    'change_today': '0.0069022639425732',\n",
      "    'cost_basis': '72.97',\n",
      "    'current_price': '72.94',\n",
      "    'exchange': 'NYSE',\n",
      "    'lastday_price': '72.44',\n",
      "    'market_value': '72.94',\n",
      "    'qty': '1',\n",
      "    'side': 'long',\n",
      "    'symbol': 'C',\n",
      "    'unrealized_intraday_pl': '-0.03',\n",
      "    'unrealized_intraday_plpc': '-0.0004111278607647',\n",
      "    'unrealized_pl': '-0.03',\n",
      "    'unrealized_plpc': '-0.0004111278607647'})\n"
     ]
    }
   ],
   "source": [
    "import os\n",
    "import alpaca_trade_api as tradeapi\n",
    "import pandas as pd\n",
    "\n",
    "# set url for paper or live environment\n",
    "# initialize API object with keys for paper or live account\n",
    "os.environ[\"APCA_API_BASE_URL\"] = \"https://paper-api.alpaca.markets\"\n",
    "api = tradeapi.REST('PK5S94NMW8O14WQPAKIT','CHOxjFZZlwOz8s5lNRs0LzeQew5bk63ZMrorCB7h', api_version='v2')\n",
    "\n",
    "# os.environ[\"APCA_API_BASE_URL\"] = \"https://api.alpaca.markets\"\n",
    "# api = tradeapi.REST('AK0VTEBWNFYQ0BCJBX94','2urhwGPA43St1QaLU5V4AkaSUov7SGYa4kmy8GeZ', api_version='v2')\n",
    "\n",
    "positions = api.list_positions()\n",
    "side = {'long':1, 'short':-1}\n",
    "\n",
    "ticker = []\n",
    "current_price = []\n",
    "cost_basis = []\n",
    "shares = []\n",
    "today_change = []\n",
    "total_change = []\n",
    "\n",
    "for position in positions:\n",
    "    ticker.append(position.symbol)\n",
    "    current_price.append(position.current_price)\n",
    "    cost_basis.append(position.cost_basis)\n",
    "    shares.append(position.qty * side[position.side])\n",
    "    today_change.append(position.unrealized_intraday_pl)\n",
    "    total_change.append(position.unrealized_pl)\n",
    "    \n",
    "portfolio = pd.DataFrame({\n",
    "    'Ticker':ticker,\n",
    "    'Current Price':current_price,\n",
    "    'Cost Basis':cost_basis,\n",
    "    'Shares':shares,\n",
    "    'Change Today':today_change,\n",
    "    'Total Return':total_change\n",
    "})"
   ]
  },
  {
   "cell_type": "code",
   "execution_count": null,
   "metadata": {},
   "outputs": [],
   "source": []
  }
 ],
 "metadata": {
  "kernelspec": {
   "display_name": "Python 3",
   "language": "python",
   "name": "python3"
  },
  "language_info": {
   "codemirror_mode": {
    "name": "ipython",
    "version": 3
   },
   "file_extension": ".py",
   "mimetype": "text/x-python",
   "name": "python",
   "nbconvert_exporter": "python",
   "pygments_lexer": "ipython3",
   "version": "3.7.3"
  }
 },
 "nbformat": 4,
 "nbformat_minor": 4
}
