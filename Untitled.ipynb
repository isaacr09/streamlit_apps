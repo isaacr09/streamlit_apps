{
 "cells": [
  {
   "cell_type": "code",
   "execution_count": 24,
   "metadata": {},
   "outputs": [
    {
     "name": "stdout",
     "output_type": "stream",
     "text": [
      "                   timestamp  profit_loss  profit_loss_pct  equity  \\\n",
      "0  2021-07-26 09:30:00-04:00            0                0  503.83   \n",
      "1  2021-07-27 09:30:00-04:00            0                0  503.83   \n",
      "2  2021-07-28 09:30:00-04:00            0                0  503.83   \n",
      "3  2021-07-29 09:30:00-04:00            0                0  503.83   \n",
      "4  2021-07-30 09:30:00-04:00            0                0  503.83   \n",
      "5  2021-08-02 09:30:00-04:00            0                0  503.83   \n",
      "6  2021-08-03 09:30:00-04:00            0                0  503.83   \n",
      "7  2021-08-04 09:30:00-04:00            0                0  503.83   \n",
      "8  2021-08-05 09:30:00-04:00            0                0  503.83   \n",
      "9  2021-08-06 09:30:00-04:00            0                0  503.83   \n",
      "10 2021-08-09 09:30:00-04:00            0                0  503.83   \n",
      "11 2021-08-10 09:30:00-04:00            0                0  503.83   \n",
      "12 2021-08-11 09:30:00-04:00            0                0  503.83   \n",
      "13 2021-08-12 09:30:00-04:00            0                0  503.83   \n",
      "14 2021-08-13 09:30:00-04:00            0                0  503.83   \n",
      "15 2021-08-16 09:30:00-04:00            0                0  503.83   \n",
      "16 2021-08-17 09:30:00-04:00            0                0  503.83   \n",
      "17 2021-08-18 09:30:00-04:00            0                0  503.83   \n",
      "18 2021-08-19 09:30:00-04:00            0                0  503.83   \n",
      "19 2021-08-20 09:30:00-04:00            0                0  503.83   \n",
      "20 2021-08-23 09:30:00-04:00            0                0  503.83   \n",
      "21 2021-08-24 09:30:00-04:00            0                0  503.83   \n",
      "22 2021-08-25 09:30:00-04:00            0                0  503.83   \n",
      "\n",
      "    lagged_equity  pct_change  \n",
      "0             NaN         NaN  \n",
      "1          503.83         0.0  \n",
      "2          503.83         0.0  \n",
      "3          503.83         0.0  \n",
      "4          503.83         0.0  \n",
      "5          503.83         0.0  \n",
      "6          503.83         0.0  \n",
      "7          503.83         0.0  \n",
      "8          503.83         0.0  \n",
      "9          503.83         0.0  \n",
      "10         503.83         0.0  \n",
      "11         503.83         0.0  \n",
      "12         503.83         0.0  \n",
      "13         503.83         0.0  \n",
      "14         503.83         0.0  \n",
      "15         503.83         0.0  \n",
      "16         503.83         0.0  \n",
      "17         503.83         0.0  \n",
      "18         503.83         0.0  \n",
      "19         503.83         0.0  \n",
      "20         503.83         0.0  \n",
      "21         503.83         0.0  \n",
      "22         503.83         0.0  \n",
      "AxesSubplot(0.125,0.125;0.775x0.755)\n"
     ]
    },
    {
     "data": {
      "image/png": "[encoded data removed]",
      "text/plain": [
       "<Figure size 432x288 with 1 Axes>"
      ]
     },
     "metadata": {
      "needs_background": "light"
     },
     "output_type": "display_data"
    }
   ],
   "source": [
    "import os\n",
    "import alpaca_trade_api as tradeapi\n",
    "import pandas as pd\n",
    "import datetime\n",
    "pd.options.display.max_rows = 999\n",
    "\n",
    "# os.environ[\"APCA_API_BASE_URL\"] = \"https://paper-api.alpaca.markets\"\n",
    "# api = tradeapi.REST('PK5S94NMW8O14WQPAKIT','CHOxjFZZlwOz8s5lNRs0LzeQew5bk63ZMrorCB7h', api_version='v2')\n",
    "\n",
    "os.environ[\"APCA_API_BASE_URL\"] = \"https://api.alpaca.markets\"\n",
    "api = tradeapi.REST('AK0VTEBWNFYQ0BCJBX94','2urhwGPA43St1QaLU5V4AkaSUov7SGYa4kmy8GeZ', api_version='v2')\n",
    "\n",
    "data = api.get_portfolio_history(period='1M', timeframe='1D').df.reset_index().iloc[0:-1,]\n",
    "\n",
    "data['lagged_equity'] = data.equity.shift(1)\n",
    "data['pct_change'] = data.profit_loss / data.lagged_equity\n",
    "\n",
    "dateFilter = '2021-01-19'\n",
    "data = data[data.timestamp >= dateFilter].reset_index(drop=True)\n",
    "print(data)\n",
    "# data.df.to_csv('pfhistory.csv')\n",
    "# data.equity.plot()\n",
    "print(data.profit_loss_pct.plot())"
   ]
  },
  {
   "cell_type": "code",
   "execution_count": null,
   "metadata": {},
   "outputs": [],
   "source": []
  },
  {
   "cell_type": "code",
   "execution_count": null,
   "metadata": {},
   "outputs": [],
   "source": []
  }
 ],
 "metadata": {
  "kernelspec": {
   "display_name": "Python 3",
   "language": "python",
   "name": "python3"
  },
  "language_info": {
   "codemirror_mode": {
    "name": "ipython",
    "version": 3
   },
   "file_extension": ".py",
   "mimetype": "text/x-python",
   "name": "python",
   "nbconvert_exporter": "python",
   "pygments_lexer": "ipython3",
   "version": "3.7.3"
  }
 },
 "nbformat": 4,
 "nbformat_minor": 4
}
