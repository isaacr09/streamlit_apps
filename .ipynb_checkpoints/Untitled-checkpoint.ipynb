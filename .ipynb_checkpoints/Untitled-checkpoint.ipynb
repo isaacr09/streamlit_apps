{
 "cells": [
  {
   "cell_type": "code",
   "execution_count": 9,
   "metadata": {},
   "outputs": [],
   "source": [
    "import pandas as pd\n",
    "import matplotlib.pyplot as plt"
   ]
  },
  {
   "cell_type": "code",
   "execution_count": 10,
   "metadata": {},
   "outputs": [],
   "source": [
    "trades = pd.read_csv('test.csv')"
   ]
  },
  {
   "cell_type": "code",
   "execution_count": 12,
   "metadata": {},
   "outputs": [
    {
     "data": {
      "text/plain": [
       "<matplotlib.legend.Legend at 0x2d1a7833ef0>"
      ]
     },
     "execution_count": 12,
     "metadata": {},
     "output_type": "execute_result"
    },
    {
     "data": {
      "image/png": "[encoded data removed]",
      "text/plain": [
       "<Figure size 432x288 with 1 Axes>"
      ]
     },
     "metadata": {
      "needs_background": "light"
     },
     "output_type": "display_data"
    }
   ],
   "source": [
    "buyPrices = trades[trades.side == 'buy'][['transaction_time', 'price']]\n",
    "buyPrices.set_index('transaction_time', inplace=True)\n",
    "sellPrices = trades[(trades.side == 'sell') | (trades.side == 'sell_short')][['transaction_time', 'price']]\n",
    "sellPrices.set_index('transaction_time', inplace=True)\n",
    "\n",
    "fig, ax = plt.subplots()\n",
    "ax.plot(data.open, alpha=0.6, label='price data')\n",
    "\n",
    "ax.scatter(buyPrices.index, buyPrices.price, marker = '^', s = 100, color = 'darkblue', label = 'BUY SIGNAL')\n",
    "ax.scatter(sellPrices.index, sellPrices.price, marker = 'v', s = 100, color = 'crimson', label = 'SELL SIGNAL')\n",
    "ax.legend(loc = 'upper left')"
   ]
  },
  {
   "cell_type": "code",
   "execution_count": 13,
   "metadata": {},
   "outputs": [
    {
     "data": {
      "text/plain": [
       "Index(['2021-02-05', '2021-02-09', '2021-02-12', '2021-03-03', '2021-03-04',\n",
       "       '2021-03-08', '2021-03-09', '2021-03-10', '2021-03-12', '2021-03-18',\n",
       "       '2021-03-24', '2021-04-16', '2021-04-20', '2021-04-30', '2021-05-04',\n",
       "       '2021-05-06', '2021-05-07', '2021-05-21', '2021-05-24', '2021-06-07',\n",
       "       '2021-06-08', '2021-06-11', '2021-06-15', '2021-06-16', '2021-06-25',\n",
       "       '2021-07-02', '2021-07-06', '2021-07-08', '2021-07-09', '2021-07-21',\n",
       "       '2021-07-22', '2021-07-30', '2021-08-13', '2021-08-27'],\n",
       "      dtype='object', name='transaction_time')"
      ]
     },
     "execution_count": 13,
     "metadata": {},
     "output_type": "execute_result"
    }
   ],
   "source": [
    "buyPrices.index"
   ]
  },
  {
   "cell_type": "code",
   "execution_count": 16,
   "metadata": {},
   "outputs": [
    {
     "data": {
      "text/plain": [
       "transaction_time\n",
       "2021-02-05    62.39\n",
       "2021-02-09    63.42\n",
       "2021-02-12    63.41\n",
       "2021-03-03    69.89\n",
       "2021-03-04    70.26\n",
       "2021-03-08    71.32\n",
       "2021-03-09    71.12\n",
       "2021-03-10    71.98\n",
       "2021-03-12    74.29\n",
       "2021-03-18    75.63\n",
       "2021-03-24    71.56\n",
       "2021-04-16    72.08\n",
       "2021-04-20    69.42\n",
       "2021-04-30    71.76\n",
       "2021-05-04    71.35\n",
       "2021-05-06    73.75\n",
       "2021-05-07    74.30\n",
       "2021-05-21    77.46\n",
       "2021-05-24    78.17\n",
       "2021-06-07    79.15\n",
       "2021-06-08    78.67\n",
       "2021-06-11    76.18\n",
       "2021-06-15    74.82\n",
       "2021-06-16    70.83\n",
       "2021-06-25    71.00\n",
       "2021-07-02    70.31\n",
       "2021-07-06    68.45\n",
       "2021-07-08    66.39\n",
       "2021-07-09    68.40\n",
       "2021-07-21    67.20\n",
       "2021-07-22    66.89\n",
       "2021-07-30    68.08\n",
       "2021-08-13    73.19\n",
       "2021-08-27    72.97\n",
       "Name: price, dtype: float64"
      ]
     },
     "execution_count": 16,
     "metadata": {},
     "output_type": "execute_result"
    }
   ],
   "source": [
    "buyPrices.price"
   ]
  },
  {
   "cell_type": "code",
   "execution_count": 17,
   "metadata": {},
   "outputs": [
    {
     "data": {
      "text/plain": [
       "RangeIndex(start=0, stop=1004, step=1)"
      ]
     },
     "execution_count": 17,
     "metadata": {},
     "output_type": "execute_result"
    }
   ],
   "source": [
    "data.index"
   ]
  },
  {
   "cell_type": "code",
   "execution_count": 4,
   "metadata": {},
   "outputs": [],
   "source": [
    "import alpaca_trade_api as tradeapi\n",
    "import os\n",
    "\n",
    "account = 'Paper'\n",
    "\n",
    "if account == 'Paper':\n",
    "    url = \"https://paper-api.alpaca.markets\"\n",
    "    key = 'PK5S94NMW8O14WQPAKIT'\n",
    "    secret = 'CHOxjFZZlwOz8s5lNRs0LzeQew5bk63ZMrorCB7h'\n",
    "    startingDate = '2021-02-04'\n",
    "# elif account == 'Live':\n",
    "    \n",
    "os.environ[\"APCA_API_BASE_URL\"] = url\n",
    "api = tradeapi.REST(key, secret, api_version='v2')\n",
    "\n"
   ]
  },
  {
   "cell_type": "code",
   "execution_count": 6,
   "metadata": {},
   "outputs": [],
   "source": [
    "positions = api.list_positions()\n"
   ]
  },
  {
   "cell_type": "code",
   "execution_count": 7,
   "metadata": {},
   "outputs": [
    {
     "data": {
      "text/plain": [
       "[Position({   'asset_class': 'us_equity',\n",
       "     'asset_id': '4f5baf1e-0e9b-4d85-b88a-d874dc4a3c42',\n",
       "     'asset_marginable': True,\n",
       "     'avg_entry_price': '230.0212',\n",
       "     'change_today': '0.0005189638022748',\n",
       "     'cost_basis': '11501.06',\n",
       "     'current_price': '231.35',\n",
       "     'exchange': 'NYSE',\n",
       "     'lastday_price': '231.23',\n",
       "     'market_value': '11567.5',\n",
       "     'qty': '50',\n",
       "     'side': 'long',\n",
       "     'symbol': 'V',\n",
       "     'unrealized_intraday_pl': '66.44',\n",
       "     'unrealized_intraday_plpc': '0.0057768588286645',\n",
       "     'unrealized_pl': '66.44',\n",
       "     'unrealized_plpc': '0.0057768588286645'}),\n",
       " Position({   'asset_class': 'us_equity',\n",
       "     'asset_id': '02f92d8b-0522-459a-9431-51ff7e1868f8',\n",
       "     'asset_marginable': True,\n",
       "     'avg_entry_price': '37.51',\n",
       "     'change_today': '0',\n",
       "     'cost_basis': '-1875.5',\n",
       "     'current_price': '36.32',\n",
       "     'exchange': 'NYSE',\n",
       "     'lastday_price': '36.32',\n",
       "     'market_value': '-1816',\n",
       "     'qty': '-50',\n",
       "     'side': 'short',\n",
       "     'symbol': 'MOV',\n",
       "     'unrealized_intraday_pl': '59.5',\n",
       "     'unrealized_intraday_plpc': '0.0317248733671021',\n",
       "     'unrealized_pl': '59.5',\n",
       "     'unrealized_plpc': '0.0317248733671021'})]"
      ]
     },
     "execution_count": 7,
     "metadata": {},
     "output_type": "execute_result"
    }
   ],
   "source": [
    "for position in positions:\n",
    "    print(position.unrealized_intraday_pl)"
   ]
  },
  {
   "cell_type": "code",
   "execution_count": null,
   "metadata": {},
   "outputs": [],
   "source": []
  }
 ],
 "metadata": {
  "kernelspec": {
   "display_name": "Python 3 (ipykernel)",
   "language": "python",
   "name": "python3"
  },
  "language_info": {
   "codemirror_mode": {
    "name": "ipython",
    "version": 3
   },
   "file_extension": ".py",
   "mimetype": "text/x-python",
   "name": "python",
   "nbconvert_exporter": "python",
   "pygments_lexer": "ipython3",
   "version": "3.7.3"
  }
 },
 "nbformat": 4,
 "nbformat_minor": 4
}
